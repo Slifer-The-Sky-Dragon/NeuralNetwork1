{
 "cells": [
  {
   "cell_type": "code",
   "execution_count": 246,
   "metadata": {},
   "outputs": [],
   "source": [
    "import random\n",
    "import matplotlib.pyplot as plt"
   ]
  },
  {
   "cell_type": "markdown",
   "metadata": {},
   "source": [
    "# Q1"
   ]
  },
  {
   "cell_type": "code",
   "execution_count": 340,
   "metadata": {},
   "outputs": [],
   "source": [
    "class HebNet:\n",
    "    def __init__(self):\n",
    "        self.weights = []\n",
    "    def setWeights(self, weights):\n",
    "        self.weights = weights\n",
    "    def activate(self, inp):\n",
    "        if inp >= 0:\n",
    "            return 1\n",
    "        return -1\n",
    "    def calculateOutput(self, inputList):\n",
    "        self.output = [0 for i in range(len(self.weights[0]))]\n",
    "        for k in range(len(self.output)):\n",
    "            total = 0\n",
    "            for i in range(len(inputList)):\n",
    "                total += inputList[i] * self.weights[i][k]\n",
    "            self.output[k] = self.activate(total)\n",
    "            \n",
    "    def checkOutput(self, inputList, outputList, q_num, print_output):\n",
    "        self.calculateOutput(inputList)\n",
    "        if print_output == 1:\n",
    "            if q_num == 1:\n",
    "                inp = np.array(inputList).reshape(9, 7)\n",
    "                out = np.array(self.output).reshape(5, 3)\n",
    "            else:\n",
    "                inp = np.array(inputList).reshape(5, 3)\n",
    "                out = np.array(self.output).reshape(5, 3)                \n",
    "            plt.subplot(1, 2, 1)\n",
    "            plt.xlabel('input')\n",
    "            plt.imshow(inp)\n",
    "            plt.subplot(1, 2, 2)\n",
    "            plt.xlabel('output')\n",
    "            plt.imshow(out)\n",
    "            plt.show()\n",
    "        elif print_output == 2:\n",
    "            print('\\t',self.output)\n",
    "        return self.output == outputList"
   ]
  },
  {
   "cell_type": "markdown",
   "metadata": {},
   "source": [
    "A)"
   ]
  },
  {
   "cell_type": "code",
   "execution_count": 341,
   "metadata": {},
   "outputs": [],
   "source": [
    "s = [[-1, -1, -1,  1, -1, -1, -1,\n",
    "      -1, -1, -1,  1, -1, -1, -1,\n",
    "      -1, -1, -1,  1, -1, -1, -1,\n",
    "      -1, -1,  1, -1,  1, -1, -1,\n",
    "      -1, -1,  1, -1,  1, -1, -1,\n",
    "      -1,  1,  1,  1,  1,  1, -1,\n",
    "      -1,  1, -1, -1, -1,  1, -1,\n",
    "      -1,  1, -1, -1, -1,  1, -1,\n",
    "       1,  1,  1, -1,  1,  1,  1],\n",
    "\n",
    "     [ 1,  1,  1,  1,  1,  1,  1,\n",
    "       1, -1, -1, -1, -1, -1,  1,\n",
    "       1, -1, -1, -1, -1,  1, -1,\n",
    "       1, -1, -1, -1,  1, -1, -1,\n",
    "       1,  1,  1,  1, -1, -1, -1,\n",
    "       1, -1, -1, -1,  1, -1, -1,\n",
    "       1, -1, -1, -1, -1,  1, -1,\n",
    "       1, -1, -1, -1, -1, -1,  1,\n",
    "       1,  1,  1,  1,  1,  1,  1],\n",
    "\n",
    "     [-1, -1,  1,  1,  1,  1, -1,\n",
    "      -1,  1, -1, -1, -1, -1,  1,\n",
    "       1, -1, -1, -1, -1, -1, -1,\n",
    "       1, -1, -1, -1, -1, -1, -1,\n",
    "       1, -1, -1, -1, -1, -1, -1,\n",
    "       1, -1, -1, -1, -1, -1, -1,\n",
    "       1, -1, -1, -1, -1, -1, -1,\n",
    "      -1,  1, -1, -1, -1, -1,  1,\n",
    "      -1, -1,  1,  1,  1,  1, -1]]"
   ]
  },
  {
   "cell_type": "code",
   "execution_count": 342,
   "metadata": {},
   "outputs": [],
   "source": [
    "t = [[-1,  1, -1,\n",
    "       1, -1,  1,\n",
    "       1,  1,  1,\n",
    "       1, -1,  1,\n",
    "       1, -1,  1],\n",
    "\n",
    "     [ 1,  1, -1,\n",
    "       1, -1,  1,\n",
    "       1,  1, -1,\n",
    "       1, -1,  1,\n",
    "       1,  1, -1],\n",
    "\n",
    "     [-1,  1,  1,\n",
    "       1, -1, -1,\n",
    "       1, -1, -1,\n",
    "       1, -1, -1,\n",
    "      -1,  1,  1]]"
   ]
  },
  {
   "cell_type": "markdown",
   "metadata": {},
   "source": [
    "now we calculate our network's weights using Heb rule:"
   ]
  },
  {
   "cell_type": "code",
   "execution_count": 343,
   "metadata": {},
   "outputs": [],
   "source": [
    "w = [[0 for i in range(len(t[0]))] for j in range(len(s[0]))]\n",
    "for p in range(len(s)):\n",
    "    for i in range(len(s[p])):\n",
    "        for j in range(len(t[p])):\n",
    "            inp = s[p][i]\n",
    "            out = t[p][j]\n",
    "            w[i][j] += inp * out"
   ]
  },
  {
   "cell_type": "markdown",
   "metadata": {},
   "source": [
    "Now we print Network's weights:"
   ]
  },
  {
   "cell_type": "code",
   "execution_count": 344,
   "metadata": {},
   "outputs": [
    {
     "data": {
      "text/plain": [
       "[[3, -1, -1, -1, 1, 1, -1, 1, -1, -1, 1, 1, 1, 1, -3],\n",
       " [3, -1, -1, -1, 1, 1, -1, 1, -1, -1, 1, 1, 1, 1, -3],\n",
       " [1, 1, 1, 1, -1, -1, 1, -1, -3, 1, -1, -1, -1, 3, -1],\n",
       " [-1, 3, -1, 3, -3, 1, 3, 1, -1, 3, -3, 1, 1, 1, 1],\n",
       " [1, 1, 1, 1, -1, -1, 1, -1, -3, 1, -1, -1, -1, 3, -1],\n",
       " [1, 1, 1, 1, -1, -1, 1, -1, -3, 1, -1, -1, -1, 3, -1],\n",
       " [3, -1, -1, -1, 1, 1, -1, 1, -1, -1, 1, 1, 1, 1, -3],\n",
       " [3, -1, -1, -1, 1, 1, -1, 1, -1, -1, 1, 1, 1, 1, -3],\n",
       " [-1, -1, 3, -1, 1, -3, -1, -3, -1, -1, 1, -3, -3, 1, 1],\n",
       " [1, -3, 1, -3, 3, -1, -3, -1, 1, -3, 3, -1, -1, -1, -1],\n",
       " [-1, -1, -1, -1, 1, 1, -1, 1, 3, -1, 1, 1, 1, -3, 1],\n",
       " [1, -3, 1, -3, 3, -1, -3, -1, 1, -3, 3, -1, -1, -1, -1],\n",
       " [1, -3, 1, -3, 3, -1, -3, -1, 1, -3, 3, -1, -1, -1, -1],\n",
       " [1, 1, 1, 1, -1, -1, 1, -1, -3, 1, -1, -1, -1, 3, -1],\n",
       " [1, 1, 1, 1, -1, -1, 1, -1, -3, 1, -1, -1, -1, 3, -1],\n",
       " [1, -3, 1, -3, 3, -1, -3, -1, 1, -3, 3, -1, -1, -1, -1],\n",
       " [1, -3, 1, -3, 3, -1, -3, -1, 1, -3, 3, -1, -1, -1, -1],\n",
       " [-1, -1, -1, -1, 1, 1, -1, 1, 3, -1, 1, 1, 1, -3, 1],\n",
       " [1, -3, 1, -3, 3, -1, -3, -1, 1, -3, 3, -1, -1, -1, -1],\n",
       " [3, -1, -1, -1, 1, 1, -1, 1, -1, -1, 1, 1, 1, 1, -3],\n",
       " [1, -3, 1, -3, 3, -1, -3, -1, 1, -3, 3, -1, -1, -1, -1],\n",
       " [1, 1, 1, 1, -1, -1, 1, -1, -3, 1, -1, -1, -1, 3, -1],\n",
       " [1, -3, 1, -3, 3, -1, -3, -1, 1, -3, 3, -1, -1, -1, -1],\n",
       " [-1, -1, -1, -1, 1, 1, -1, 1, 3, -1, 1, 1, 1, -3, 1],\n",
       " [1, -3, 1, -3, 3, -1, -3, -1, 1, -3, 3, -1, -1, -1, -1],\n",
       " [1, 1, -3, 1, -1, 3, 1, 3, 1, 1, -1, 3, 3, -1, -1],\n",
       " [1, -3, 1, -3, 3, -1, -3, -1, 1, -3, 3, -1, -1, -1, -1],\n",
       " [1, -3, 1, -3, 3, -1, -3, -1, 1, -3, 3, -1, -1, -1, -1],\n",
       " [1, 1, 1, 1, -1, -1, 1, -1, -3, 1, -1, -1, -1, 3, -1],\n",
       " [3, -1, -1, -1, 1, 1, -1, 1, -1, -1, 1, 1, 1, 1, -3],\n",
       " [1, 1, -3, 1, -1, 3, 1, 3, 1, 1, -1, 3, 3, -1, -1],\n",
       " [3, -1, -1, -1, 1, 1, -1, 1, -1, -1, 1, 1, 1, 1, -3],\n",
       " [-1, -1, -1, -1, 1, 1, -1, 1, 3, -1, 1, 1, 1, -3, 1],\n",
       " [1, -3, 1, -3, 3, -1, -3, -1, 1, -3, 3, -1, -1, -1, -1],\n",
       " [1, -3, 1, -3, 3, -1, -3, -1, 1, -3, 3, -1, -1, -1, -1],\n",
       " [1, 1, 1, 1, -1, -1, 1, -1, -3, 1, -1, -1, -1, 3, -1],\n",
       " [-1, -1, -1, -1, 1, 1, -1, 1, 3, -1, 1, 1, 1, -3, 1],\n",
       " [-1, -1, -1, -1, 1, 1, -1, 1, 3, -1, 1, 1, 1, -3, 1],\n",
       " [-1, -1, -1, -1, 1, 1, -1, 1, 3, -1, 1, 1, 1, -3, 1],\n",
       " [1, 1, -3, 1, -1, 3, 1, 3, 1, 1, -1, 3, 3, -1, -1],\n",
       " [-1, -1, -1, -1, 1, 1, -1, 1, 3, -1, 1, 1, 1, -3, 1],\n",
       " [1, -3, 1, -3, 3, -1, -3, -1, 1, -3, 3, -1, -1, -1, -1],\n",
       " [1, 1, 1, 1, -1, -1, 1, -1, -3, 1, -1, -1, -1, 3, -1],\n",
       " [-1, -1, -1, -1, 1, 1, -1, 1, 3, -1, 1, 1, 1, -3, 1],\n",
       " [1, -3, 1, -3, 3, -1, -3, -1, 1, -3, 3, -1, -1, -1, -1],\n",
       " [1, -3, 1, -3, 3, -1, -3, -1, 1, -3, 3, -1, -1, -1, -1],\n",
       " [1, -3, 1, -3, 3, -1, -3, -1, 1, -3, 3, -1, -1, -1, -1],\n",
       " [1, 1, -3, 1, -1, 3, 1, 3, 1, 1, -1, 3, 3, -1, -1],\n",
       " [1, -3, 1, -3, 3, -1, -3, -1, 1, -3, 3, -1, -1, -1, -1],\n",
       " [3, -1, -1, -1, 1, 1, -1, 1, -1, -1, 1, 1, 1, 1, -3],\n",
       " [-3, 1, 1, 1, -1, -1, 1, -1, 1, 1, -1, -1, -1, -1, 3],\n",
       " [1, -3, 1, -3, 3, -1, -3, -1, 1, -3, 3, -1, -1, -1, -1],\n",
       " [1, -3, 1, -3, 3, -1, -3, -1, 1, -3, 3, -1, -1, -1, -1],\n",
       " [1, -3, 1, -3, 3, -1, -3, -1, 1, -3, 3, -1, -1, -1, -1],\n",
       " [-1, -1, -1, -1, 1, 1, -1, 1, 3, -1, 1, 1, 1, -3, 1],\n",
       " [1, 1, 1, 1, -1, -1, 1, -1, -3, 1, -1, -1, -1, 3, -1],\n",
       " [1, 1, -3, 1, -1, 3, 1, 3, 1, 1, -1, 3, 3, -1, -1],\n",
       " [1, 1, -3, 1, -1, 3, 1, 3, 1, 1, -1, 3, 3, -1, -1],\n",
       " [-1, 3, -1, 3, -3, 1, 3, 1, -1, 3, -3, 1, 1, 1, 1],\n",
       " [1, 1, 1, 1, -1, -1, 1, -1, -3, 1, -1, -1, -1, 3, -1],\n",
       " [-1, 3, -1, 3, -3, 1, 3, 1, -1, 3, -3, 1, 1, 1, 1],\n",
       " [-1, 3, -1, 3, -3, 1, 3, 1, -1, 3, -3, 1, 1, 1, 1],\n",
       " [1, 1, -3, 1, -1, 3, 1, 3, 1, 1, -1, 3, 3, -1, -1]]"
      ]
     },
     "execution_count": 344,
     "metadata": {},
     "output_type": "execute_result"
    }
   ],
   "source": [
    "w"
   ]
  },
  {
   "cell_type": "code",
   "execution_count": 345,
   "metadata": {},
   "outputs": [],
   "source": [
    "myNet = HebNet()\n",
    "myNet.setWeights(w)"
   ]
  },
  {
   "cell_type": "code",
   "execution_count": 346,
   "metadata": {},
   "outputs": [
    {
     "name": "stdout",
     "output_type": "stream",
     "text": [
      "A Test : \n"
     ]
    },
    {
     "data": {
      "image/png": "[encoded data removed]",
      "text/plain": [
       "<Figure size 432x288 with 2 Axes>"
      ]
     },
     "metadata": {
      "needs_background": "light"
     },
     "output_type": "display_data"
    },
    {
     "name": "stdout",
     "output_type": "stream",
     "text": [
      "B Test : \n"
     ]
    },
    {
     "data": {
      "image/png": "[encoded data removed]",
      "text/plain": [
       "<Figure size 432x288 with 2 Axes>"
      ]
     },
     "metadata": {
      "needs_background": "light"
     },
     "output_type": "display_data"
    },
    {
     "name": "stdout",
     "output_type": "stream",
     "text": [
      "C Test : \n"
     ]
    },
    {
     "data": {
      "image/png": "[encoded data removed]",
      "text/plain": [
       "<Figure size 432x288 with 2 Axes>"
      ]
     },
     "metadata": {
      "needs_background": "light"
     },
     "output_type": "display_data"
    }
   ],
   "source": [
    "for i in range(len(s)):\n",
    "    print(chr(i + ord('A')) + ' Test : ')\n",
    "    myNet.checkOutput(s[i], t[i], 1, print_output = 1)"
   ]
  },
  {
   "cell_type": "markdown",
   "metadata": {},
   "source": [
    "B)"
   ]
  },
  {
   "cell_type": "code",
   "execution_count": 347,
   "metadata": {},
   "outputs": [
    {
     "name": "stdout",
     "output_type": "stream",
     "text": [
      "A Test : \n",
      "\t [-1, -1]\n",
      "B Test : \n",
      "\t [-1, 1]\n",
      "C Test : \n",
      "\t [1, -1]\n"
     ]
    }
   ],
   "source": [
    "t2 = [\n",
    "    [-1, -1],\n",
    "    [-1, 1],\n",
    "    [1, -1]\n",
    "]\n",
    "\n",
    "w2 = [[0 for i in range(len(t2[0]))] for j in range(len(s[0]))]\n",
    "for p in range(len(s)):\n",
    "    for i in range(len(s[p])):\n",
    "        for j in range(len(t2[p])):\n",
    "            inp = s[p][i]\n",
    "            out = t2[p][j]\n",
    "            w2[i][j] += inp * out\n",
    "\n",
    "myMiniNet = HebNet()\n",
    "myMiniNet.setWeights(w2)\n",
    "\n",
    "for i in range(len(s)):\n",
    "    print(chr(i + ord('A')) + ' Test : ')\n",
    "    myMiniNet.checkOutput(s[i], t2[i], 1, print_output = 2)"
   ]
  },
  {
   "cell_type": "markdown",
   "metadata": {},
   "source": [
    "C)\n",
    "First we need to generate our inputs:"
   ]
  },
  {
   "cell_type": "code",
   "execution_count": 324,
   "metadata": {},
   "outputs": [],
   "source": [
    "def noiseGenerator(generatedInputs, sample, res, percentage, forget=False):\n",
    "    for p in range(30):\n",
    "        noised_input = sample.copy()\n",
    "        noiseCount = ((percentage * len(sample)) // 100)\n",
    "        noised_ind = random.sample(range(0, len(sample)), noiseCount)\n",
    "        for ind in noised_ind:\n",
    "            if forget == False:\n",
    "                noised_input[ind] *= -1\n",
    "            else:\n",
    "                noised_input[ind] *= 0\n",
    "        generatedInputs.append([noised_input, res])"
   ]
  },
  {
   "cell_type": "markdown",
   "metadata": {},
   "source": [
    "10% noise:"
   ]
  },
  {
   "cell_type": "code",
   "execution_count": 325,
   "metadata": {},
   "outputs": [
    {
     "name": "stdout",
     "output_type": "stream",
     "text": [
      "Network Accuracy: 100.0%"
     ]
    }
   ],
   "source": [
    "noisedInputs = []\n",
    "noiseGenerator(noisedInputs, s[0], 0, 10)\n",
    "noiseGenerator(noisedInputs, s[1], 1, 10)\n",
    "noiseGenerator(noisedInputs, s[2], 2, 10)\n",
    "correct = 0\n",
    "for i in range(len(noisedInputs)):\n",
    "    input_type = noisedInputs[i][1]\n",
    "    if myNet.checkOutput(noisedInputs[i][0], t[input_type], 1, print_output = False):\n",
    "        correct += 1\n",
    "print('Network Accuracy:',correct / len(noisedInputs) * 100, end = '%')"
   ]
  },
  {
   "cell_type": "markdown",
   "metadata": {},
   "source": [
    "40% noise:"
   ]
  },
  {
   "cell_type": "code",
   "execution_count": 326,
   "metadata": {},
   "outputs": [
    {
     "name": "stdout",
     "output_type": "stream",
     "text": [
      "Network Accuracy: 56.666666666666664%"
     ]
    }
   ],
   "source": [
    "noisedInputs = []\n",
    "noiseGenerator(noisedInputs, s[0], 0, 40)\n",
    "noiseGenerator(noisedInputs, s[1], 1, 40)\n",
    "noiseGenerator(noisedInputs, s[2], 2, 40)\n",
    "correct = 0\n",
    "for i in range(len(noisedInputs)):\n",
    "    input_type = noisedInputs[i][1]\n",
    "    if myNet.checkOutput(noisedInputs[i][0], t[input_type], 1, print_output = False):\n",
    "        correct += 1\n",
    "print('Network Accuracy:', correct / len(noisedInputs) * 100, end = '%')"
   ]
  },
  {
   "cell_type": "markdown",
   "metadata": {},
   "source": [
    "D)\n",
    "\n",
    "10% loss:"
   ]
  },
  {
   "cell_type": "code",
   "execution_count": 328,
   "metadata": {},
   "outputs": [
    {
     "name": "stdout",
     "output_type": "stream",
     "text": [
      "Network Accuracy: 100.0%"
     ]
    }
   ],
   "source": [
    "forgetInputs = []\n",
    "noiseGenerator(forgetInputs, s[0], 0, 10, forget=True)\n",
    "noiseGenerator(forgetInputs, s[1], 1, 10, forget=True)\n",
    "noiseGenerator(forgetInputs, s[2], 2, 10, forget=True)\n",
    "correct = 0\n",
    "for i in range(len(forgetInputs)):\n",
    "    input_type = forgetInputs[i][1]\n",
    "    if myNet.checkOutput(forgetInputs[i][0], t[input_type], 1, print_output = False):\n",
    "        correct += 1\n",
    "print('Network Accuracy:', correct / len(forgetInputs) * 100, end = '%')"
   ]
  },
  {
   "cell_type": "markdown",
   "metadata": {},
   "source": [
    "40% loss:"
   ]
  },
  {
   "cell_type": "code",
   "execution_count": 329,
   "metadata": {},
   "outputs": [
    {
     "name": "stdout",
     "output_type": "stream",
     "text": [
      "Network Accuracy: 100.0%"
     ]
    }
   ],
   "source": [
    "forgetInputs = []\n",
    "noiseGenerator(forgetInputs, s[0], 0, 40, forget=True)\n",
    "noiseGenerator(forgetInputs, s[1], 1, 40, forget=True)\n",
    "noiseGenerator(forgetInputs, s[2], 2, 40, forget=True)\n",
    "correct = 0\n",
    "for i in range(len(forgetInputs)):\n",
    "    input_type = forgetInputs[i][1]\n",
    "    if myNet.checkOutput(forgetInputs[i][0], t[input_type], 1, print_output = False):\n",
    "        correct += 1\n",
    "print('Network Accuracy:', correct / len(forgetInputs) * 100, end = '%')"
   ]
  },
  {
   "cell_type": "markdown",
   "metadata": {},
   "source": [
    "# Q2\n",
    "\n",
    "\n",
    "A)\n",
    "First we create our inputs:"
   ]
  },
  {
   "cell_type": "code",
   "execution_count": 348,
   "metadata": {},
   "outputs": [],
   "source": [
    "s = [\n",
    "    [ 1,  1,  1,\n",
    "      1, -1,  1,\n",
    "      1, -1,  1,\n",
    "      1, -1,  1,\n",
    "      1,  1,  1],\n",
    "    \n",
    "    [ 1,  1,  1,\n",
    "      1, -1,  1,\n",
    "      1,  1,  1,\n",
    "      1, -1,  1,\n",
    "      1,  1,  1]   \n",
    "]"
   ]
  },
  {
   "cell_type": "code",
   "execution_count": 349,
   "metadata": {},
   "outputs": [],
   "source": [
    "w = [[0 for i in range(len(s[0]))] for j in range(len(s[0]))]\n",
    "for p in range(len(s)):\n",
    "    for i in range(len(s[p])):\n",
    "        for j in range(len(s[p])):\n",
    "            inp = s[p][i]\n",
    "            out = s[p][j]\n",
    "            w[i][j] += inp * out"
   ]
  },
  {
   "cell_type": "code",
   "execution_count": 350,
   "metadata": {},
   "outputs": [
    {
     "data": {
      "text/plain": [
       "array([[ 2,  2,  2,  2, -2,  2,  2,  0,  2,  2, -2,  2,  2,  2,  2],\n",
       "       [ 2,  2,  2,  2, -2,  2,  2,  0,  2,  2, -2,  2,  2,  2,  2],\n",
       "       [ 2,  2,  2,  2, -2,  2,  2,  0,  2,  2, -2,  2,  2,  2,  2],\n",
       "       [ 2,  2,  2,  2, -2,  2,  2,  0,  2,  2, -2,  2,  2,  2,  2],\n",
       "       [-2, -2, -2, -2,  2, -2, -2,  0, -2, -2,  2, -2, -2, -2, -2],\n",
       "       [ 2,  2,  2,  2, -2,  2,  2,  0,  2,  2, -2,  2,  2,  2,  2],\n",
       "       [ 2,  2,  2,  2, -2,  2,  2,  0,  2,  2, -2,  2,  2,  2,  2],\n",
       "       [ 0,  0,  0,  0,  0,  0,  0,  2,  0,  0,  0,  0,  0,  0,  0],\n",
       "       [ 2,  2,  2,  2, -2,  2,  2,  0,  2,  2, -2,  2,  2,  2,  2],\n",
       "       [ 2,  2,  2,  2, -2,  2,  2,  0,  2,  2, -2,  2,  2,  2,  2],\n",
       "       [-2, -2, -2, -2,  2, -2, -2,  0, -2, -2,  2, -2, -2, -2, -2],\n",
       "       [ 2,  2,  2,  2, -2,  2,  2,  0,  2,  2, -2,  2,  2,  2,  2],\n",
       "       [ 2,  2,  2,  2, -2,  2,  2,  0,  2,  2, -2,  2,  2,  2,  2],\n",
       "       [ 2,  2,  2,  2, -2,  2,  2,  0,  2,  2, -2,  2,  2,  2,  2],\n",
       "       [ 2,  2,  2,  2, -2,  2,  2,  0,  2,  2, -2,  2,  2,  2,  2]])"
      ]
     },
     "execution_count": 350,
     "metadata": {},
     "output_type": "execute_result"
    }
   ],
   "source": [
    "np.array(w).reshape(15, 15)"
   ]
  },
  {
   "cell_type": "code",
   "execution_count": 351,
   "metadata": {},
   "outputs": [],
   "source": [
    "myModifiedNet = HebNet()\n",
    "myModifiedNet.setWeights(w)"
   ]
  },
  {
   "cell_type": "code",
   "execution_count": 352,
   "metadata": {},
   "outputs": [
    {
     "data": {
      "image/png": "[encoded data removed]",
      "text/plain": [
       "<Figure size 432x288 with 2 Axes>"
      ]
     },
     "metadata": {
      "needs_background": "light"
     },
     "output_type": "display_data"
    },
    {
     "data": {
      "text/plain": [
       "True"
      ]
     },
     "execution_count": 352,
     "metadata": {},
     "output_type": "execute_result"
    }
   ],
   "source": [
    "myModifiedNet.checkOutput(s[0], s[0], 2, print_output=True)"
   ]
  },
  {
   "cell_type": "markdown",
   "metadata": {},
   "source": [
    "B)\n",
    "\n",
    "first we test one cell noise:"
   ]
  },
  {
   "cell_type": "code",
   "execution_count": 356,
   "metadata": {},
   "outputs": [
    {
     "data": {
      "image/png": "[encoded data removed]",
      "text/plain": [
       "<Figure size 432x288 with 2 Axes>"
      ]
     },
     "metadata": {
      "needs_background": "light"
     },
     "output_type": "display_data"
    },
    {
     "data": {
      "image/png": "[encoded data removed]",
      "text/plain": [
       "<Figure size 432x288 with 2 Axes>"
      ]
     },
     "metadata": {
      "needs_background": "light"
     },
     "output_type": "display_data"
    },
    {
     "data": {
      "image/png": "[encoded data removed]",
      "text/plain": [
       "<Figure size 432x288 with 2 Axes>"
      ]
     },
     "metadata": {
      "needs_background": "light"
     },
     "output_type": "display_data"
    },
    {
     "data": {
      "image/png": "[encoded data removed]",
      "text/plain": [
       "<Figure size 432x288 with 2 Axes>"
      ]
     },
     "metadata": {
      "needs_background": "light"
     },
     "output_type": "display_data"
    },
    {
     "data": {
      "image/png": "[encoded data removed]",
      "text/plain": [
       "<Figure size 432x288 with 2 Axes>"
      ]
     },
     "metadata": {
      "needs_background": "light"
     },
     "output_type": "display_data"
    },
    {
     "data": {
      "image/png": "[encoded data removed]",
      "text/plain": [
       "<Figure size 432x288 with 2 Axes>"
      ]
     },
     "metadata": {
      "needs_background": "light"
     },
     "output_type": "display_data"
    },
    {
     "data": {
      "image/png": "[encoded data removed]",
      "text/plain": [
       "<Figure size 432x288 with 2 Axes>"
      ]
     },
     "metadata": {
      "needs_background": "light"
     },
     "output_type": "display_data"
    },
    {
     "data": {
      "image/png": "[encoded data removed]",
      "text/plain": [
       "<Figure size 432x288 with 2 Axes>"
      ]
     },
     "metadata": {
      "needs_background": "light"
     },
     "output_type": "display_data"
    },
    {
     "data": {
      "image/png": "[encoded data removed]",
      "text/plain": [
       "<Figure size 432x288 with 2 Axes>"
      ]
     },
     "metadata": {
      "needs_background": "light"
     },
     "output_type": "display_data"
    },
    {
     "data": {
      "image/png": "[encoded data removed]",
      "text/plain": [
       "<Figure size 432x288 with 2 Axes>"
      ]
     },
     "metadata": {
      "needs_background": "light"
     },
     "output_type": "display_data"
    },
    {
     "data": {
      "image/png": "[encoded data removed]",
      "text/plain": [
       "<Figure size 432x288 with 2 Axes>"
      ]
     },
     "metadata": {
      "needs_background": "light"
     },
     "output_type": "display_data"
    },
    {
     "data": {
      "image/png": "[encoded data removed]",
      "text/plain": [
       "<Figure size 432x288 with 2 Axes>"
      ]
     },
     "metadata": {
      "needs_background": "light"
     },
     "output_type": "display_data"
    },
    {
     "data": {
      "image/png": "[encoded data removed]",
      "text/plain": [
       "<Figure size 432x288 with 2 Axes>"
      ]
     },
     "metadata": {
      "needs_background": "light"
     },
     "output_type": "display_data"
    },
    {
     "data": {
      "image/png": "[encoded data removed]",
      "text/plain": [
       "<Figure size 432x288 with 2 Axes>"
      ]
     },
     "metadata": {
      "needs_background": "light"
     },
     "output_type": "display_data"
    },
    {
     "data": {
      "image/png": "[encoded data removed]",
      "text/plain": [
       "<Figure size 432x288 with 2 Axes>"
      ]
     },
     "metadata": {
      "needs_background": "light"
     },
     "output_type": "display_data"
    },
    {
     "data": {
      "image/png": "[encoded data removed]",
      "text/plain": [
       "<Figure size 432x288 with 2 Axes>"
      ]
     },
     "metadata": {
      "needs_background": "light"
     },
     "output_type": "display_data"
    },
    {
     "data": {
      "image/png": "[encoded data removed]",
      "text/plain": [
       "<Figure size 432x288 with 2 Axes>"
      ]
     },
     "metadata": {
      "needs_background": "light"
     },
     "output_type": "display_data"
    },
    {
     "data": {
      "image/png": "[encoded data removed]",
      "text/plain": [
       "<Figure size 432x288 with 2 Axes>"
      ]
     },
     "metadata": {
      "needs_background": "light"
     },
     "output_type": "display_data"
    },
    {
     "data": {
      "image/png": "[encoded data removed]",
      "text/plain": [
       "<Figure size 432x288 with 2 Axes>"
      ]
     },
     "metadata": {
      "needs_background": "light"
     },
     "output_type": "display_data"
    },
    {
     "data": {
      "image/png": "[encoded data removed]",
      "text/plain": [
       "<Figure size 432x288 with 2 Axes>"
      ]
     },
     "metadata": {
      "needs_background": "light"
     },
     "output_type": "display_data"
    },
    {
     "data": {
      "image/png": "[encoded data removed]",
      "text/plain": [
       "<Figure size 432x288 with 2 Axes>"
      ]
     },
     "metadata": {
      "needs_background": "light"
     },
     "output_type": "display_data"
    },
    {
     "data": {
      "image/png": "[encoded data removed]",
      "text/plain": [
       "<Figure size 432x288 with 2 Axes>"
      ]
     },
     "metadata": {
      "needs_background": "light"
     },
     "output_type": "display_data"
    },
    {
     "data": {
      "image/png": "[encoded data removed]",
      "text/plain": [
       "<Figure size 432x288 with 2 Axes>"
      ]
     },
     "metadata": {
      "needs_background": "light"
     },
     "output_type": "display_data"
    },
    {
     "data": {
      "image/png": "[encoded data removed]",
      "text/plain": [
       "<Figure size 432x288 with 2 Axes>"
      ]
     },
     "metadata": {
      "needs_background": "light"
     },
     "output_type": "display_data"
    },
    {
     "data": {
      "image/png": "[encoded data removed]",
      "text/plain": [
       "<Figure size 432x288 with 2 Axes>"
      ]
     },
     "metadata": {
      "needs_background": "light"
     },
     "output_type": "display_data"
    },
    {
     "data": {
      "image/png": "[encoded data removed]",
      "text/plain": [
       "<Figure size 432x288 with 2 Axes>"
      ]
     },
     "metadata": {
      "needs_background": "light"
     },
     "output_type": "display_data"
    },
    {
     "data": {
      "image/png": "[encoded data removed]",
      "text/plain": [
       "<Figure size 432x288 with 2 Axes>"
      ]
     },
     "metadata": {
      "needs_background": "light"
     },
     "output_type": "display_data"
    },
    {
     "data": {
      "image/png": "[encoded data removed]",
      "text/plain": [
       "<Figure size 432x288 with 2 Axes>"
      ]
     },
     "metadata": {
      "needs_background": "light"
     },
     "output_type": "display_data"
    },
    {
     "data": {
      "image/png": "[encoded data removed]",
      "text/plain": [
       "<Figure size 432x288 with 2 Axes>"
      ]
     },
     "metadata": {
      "needs_background": "light"
     },
     "output_type": "display_data"
    },
    {
     "data": {
      "image/png": "[encoded data removed]",
      "text/plain": [
       "<Figure size 432x288 with 2 Axes>"
      ]
     },
     "metadata": {
      "needs_background": "light"
     },
     "output_type": "display_data"
    }
   ],
   "source": [
    "for p in range(len(s)):\n",
    "    test_in = s[p].copy()\n",
    "    for i in range(len(test_in)):\n",
    "        test_in[i] *= -1\n",
    "        myModifiedNet.checkOutput(test_in, s[0], 2, print_output=True)\n",
    "        test_in[i] *= -1"
   ]
  },
  {
   "cell_type": "code",
   "execution_count": 357,
   "metadata": {},
   "outputs": [],
   "source": [
    "def make_all_noise_mask(s_in):\n",
    "    input_len = len(s_in)\n",
    "    noise_mask = [0 for i in range(input_len)]\n",
    "    result = []\n",
    "    for i in range (0, 2 ** input_len):\n",
    "        tmp = i\n",
    "        for j in range(input_len):\n",
    "            noise_mask[j] = tmp % 2\n",
    "            tmp = tmp // 2\n",
    "        result.append(noise_mask.copy())\n",
    "    return result\n",
    "\n",
    "def noise_generator_with_mask(s_in, noise_masks, forget=False):\n",
    "    result = []\n",
    "    for i in range(len(noise_masks)):\n",
    "        noised_input = s_in.copy()\n",
    "        for j in range(len(noise_masks[i])):\n",
    "            if noise_masks[i][j]:\n",
    "                if forget:\n",
    "                    noised_input[j] *= 0\n",
    "                else:\n",
    "                    noised_input[j] *= -1\n",
    "        noised_elements_count = noise_masks[i].count(1)\n",
    "        result.append((noised_input, s_in, noised_elements_count))\n",
    "    return result\n",
    "        "
   ]
  },
  {
   "cell_type": "code",
   "execution_count": 358,
   "metadata": {},
   "outputs": [],
   "source": [
    "noise_masks = make_all_noise_mask(s[0])\n",
    "\n",
    "zero_inputs = noise_generator_with_mask(s[0], noise_masks)\n",
    "eight_inputs = noise_generator_with_mask(s[1], noise_masks)\n",
    "all_inputs = zero_inputs + eight_inputs"
   ]
  },
  {
   "cell_type": "code",
   "execution_count": 359,
   "metadata": {},
   "outputs": [],
   "source": [
    "correct = [0 for i in range(16)]\n",
    "all_samples = [0 for i in range(16)]\n",
    "accuracy = [0 for i in range(16)]\n",
    "\n",
    "for i in range(len(all_inputs)):\n",
    "    ss = all_inputs[i][0]\n",
    "    tt = all_inputs[i][1]\n",
    "    noised_elements_count = all_inputs[i][2]\n",
    "    \n",
    "    if myModifiedNet.checkOutput(ss, tt, 2, print_output=False):\n",
    "        correct[noised_elements_count] += 1\n",
    "    all_samples[noised_elements_count] += 1\n",
    "\n",
    "for i in range(16):\n",
    "    accuracy[i] = (correct[i] / all_samples[i]) * 100"
   ]
  },
  {
   "cell_type": "code",
   "execution_count": 311,
   "metadata": {},
   "outputs": [
    {
     "data": {
      "image/png": "[encoded data removed]",
      "text/plain": [
       "<Figure size 432x288 with 1 Axes>"
      ]
     },
     "metadata": {
      "needs_background": "light"
     },
     "output_type": "display_data"
    }
   ],
   "source": [
    "plt.plot(range(16), accuracy)\n",
    "plt.xlabel('noised_elements')\n",
    "plt.ylabel('Accuracy')\n",
    "plt.show()"
   ]
  },
  {
   "cell_type": "markdown",
   "metadata": {},
   "source": [
    "C)"
   ]
  },
  {
   "cell_type": "code",
   "execution_count": 360,
   "metadata": {},
   "outputs": [],
   "source": [
    "noise_masks = make_all_noise_mask(s[0])\n",
    "\n",
    "zero_inputs = noise_generator_with_mask(s[0], noise_masks, forget=True)\n",
    "eight_inputs = noise_generator_with_mask(s[1], noise_masks, forget=True)\n",
    "all_inputs = zero_inputs + eight_inputs"
   ]
  },
  {
   "cell_type": "code",
   "execution_count": 361,
   "metadata": {},
   "outputs": [],
   "source": [
    "correct = [0 for i in range(16)]\n",
    "all_samples = [0 for i in range(16)]\n",
    "accuracy = [0 for i in range(16)]\n",
    "\n",
    "for i in range(len(all_inputs)):\n",
    "    ss = all_inputs[i][0]\n",
    "    tt = all_inputs[i][1]\n",
    "    noised_elements_count = all_inputs[i][2]\n",
    "    \n",
    "    if myModifiedNet.checkOutput(ss, tt, 2, print_output=False):\n",
    "        correct[noised_elements_count] += 1\n",
    "    all_samples[noised_elements_count] += 1\n",
    "\n",
    "for i in range(16):\n",
    "    accuracy[i] = (correct[i] / all_samples[i]) * 100"
   ]
  },
  {
   "cell_type": "code",
   "execution_count": 362,
   "metadata": {},
   "outputs": [
    {
     "data": {
      "image/png": "[encoded data removed]",
      "text/plain": [
       "<Figure size 432x288 with 1 Axes>"
      ]
     },
     "metadata": {
      "needs_background": "light"
     },
     "output_type": "display_data"
    }
   ],
   "source": [
    "plt.plot(range(16), accuracy)\n",
    "plt.xlabel('lossed_elements')\n",
    "plt.ylabel('Accuracy')\n",
    "plt.show()"
   ]
  },
  {
   "cell_type": "markdown",
   "metadata": {},
   "source": [
    "D)"
   ]
  },
  {
   "cell_type": "code",
   "execution_count": 315,
   "metadata": {},
   "outputs": [],
   "source": [
    "s = [\n",
    "    [ 1,  1,  1,\n",
    "      1, -1,  1,\n",
    "      1, -1,  1,\n",
    "      1, -1,  1,\n",
    "      1,  1,  1],\n",
    "    \n",
    "    [-1,  1, -1,\n",
    "     -1,  1, -1,\n",
    "     -1,  1, -1,\n",
    "     -1,  1, -1,\n",
    "     -1,  1, -1]   \n",
    "]\n",
    "w = [[0 for i in range(len(s[0]))] for j in range(len(s[0]))]\n",
    "for p in range(len(s)):\n",
    "    for i in range(len(s[p])):\n",
    "        for j in range(len(s[p])):\n",
    "            inp = s[p][i]\n",
    "            out = s[p][j]\n",
    "            w[i][j] += inp * out\n",
    "myModifiedNet = HebNet()\n",
    "myModifiedNet.setWeights(w)"
   ]
  },
  {
   "cell_type": "code",
   "execution_count": 316,
   "metadata": {},
   "outputs": [
    {
     "data": {
      "image/png": "[encoded data removed]",
      "text/plain": [
       "<Figure size 432x288 with 1 Axes>"
      ]
     },
     "metadata": {
      "needs_background": "light"
     },
     "output_type": "display_data"
    }
   ],
   "source": [
    "noise_masks = make_all_noise_mask(s[0])\n",
    "\n",
    "zero_inputs = noise_generator_with_mask(s[0], noise_masks)\n",
    "eight_inputs = noise_generator_with_mask(s[1], noise_masks)\n",
    "all_inputs = zero_inputs + eight_inputs\n",
    "\n",
    "correct = [0 for i in range(16)]\n",
    "all_samples = [0 for i in range(16)]\n",
    "accuracy = [0 for i in range(16)]\n",
    "\n",
    "for i in range(len(all_inputs)):\n",
    "    ss = all_inputs[i][0]\n",
    "    tt = all_inputs[i][1]\n",
    "    noised_elements_count = all_inputs[i][2]\n",
    "    \n",
    "    if myModifiedNet.checkOutput(ss, tt, 2, print_output=False):\n",
    "        correct[noised_elements_count] += 1\n",
    "    all_samples[noised_elements_count] += 1\n",
    "\n",
    "for i in range(16):\n",
    "    accuracy[i] = (correct[i] / all_samples[i]) * 100\n",
    "    \n",
    "plt.plot(range(16), accuracy)\n",
    "plt.xlabel('noised_elements')\n",
    "plt.ylabel('Accuracy')\n",
    "plt.show()"
   ]
  },
  {
   "cell_type": "markdown",
   "metadata": {},
   "source": [
    "# Q4\n",
    "\n",
    "First we create our network"
   ]
  },
  {
   "cell_type": "code",
   "execution_count": 385,
   "metadata": {},
   "outputs": [],
   "source": [
    "class BAM:\n",
    "    def transpose(self, w):\n",
    "        result = [[0 for j in range(len(w))] for i in range(len(w[0]))]\n",
    "        for j in range(len(w[0])):\n",
    "            for i in range(len(w)):\n",
    "                result[j][i] = w[i][j]\n",
    "        return result\n",
    "    \n",
    "    def setWeights(self, weights):\n",
    "        self.forward_weights = weights\n",
    "        self.backward_weights = self.transpose(weights)\n",
    "        \n",
    "        self.x = [0 for i in range(len(self.forward_weights))]\n",
    "        self.y = [0 for i in range(len(self.backward_weights))]\n",
    "        \n",
    "    def activate(self, inp, last_inp):\n",
    "        if inp > 0:\n",
    "            return 1\n",
    "        elif inp == 0:\n",
    "            return last_inp\n",
    "        return -1\n",
    "    \n",
    "    def reset(self):\n",
    "        self.x = [0 for i in range(len(self.forward_weights))]\n",
    "        self.y = [0 for i in range(len(self.backward_weights))]\n",
    "        \n",
    "        self.lastx = [0 for i in range(len(self.forward_weights))]\n",
    "        self.lasty = [0 for i in range(len(self.backward_weights))]\n",
    "    \n",
    "    def forwardPass(self):\n",
    "        for k in range(len(self.y)):\n",
    "            total = 0\n",
    "            for i in range(len(self.x)):\n",
    "                total += self.x[i] * self.forward_weights[i][k]\n",
    "            self.y[k] = self.activate(total, self.y[k])\n",
    "    \n",
    "    def backwardPass(self):\n",
    "        for k in range(len(self.x)):\n",
    "            total = 0\n",
    "            for i in range(len(self.y)):\n",
    "                total += self.y[i] * self.backward_weights[i][k]\n",
    "            self.x[k] = self.activate(total, self.x[k])\n",
    "    \n",
    "    def perform_updates(self, direction, outputList):\n",
    "        if direction == 0:\n",
    "            self.forwardPass()\n",
    "            if self.y == outputList:\n",
    "                return True, self.y\n",
    "            elif self.y == self.lasty:\n",
    "                return False, self.y\n",
    "            self.lasty = self.y.copy()\n",
    "        else:\n",
    "            self.backwardPass()\n",
    "            if self.x == outputList:\n",
    "                return True, self.x\n",
    "            elif self.x == self.lastx:\n",
    "                return False, self.x\n",
    "            self.lastx = self.x.copy()\n",
    "        return self.perform_updates((direction + 1) % 2, outputList)\n",
    "    \n",
    "    def calculateOutput(self, inputList, direction, outputList):\n",
    "        self.reset()\n",
    "        if direction == 0: #forward\n",
    "            self.x = inputList.copy()\n",
    "        else:\n",
    "            self.y = inputList.copy()\n",
    "        res, output = self.perform_updates(direction, outputList)\n",
    "         \n",
    "        return res, output\n",
    "    \n",
    "    def performPairUpdates(self, direction, outputList):\n",
    "        if direction == 0:\n",
    "            self.forwardPass()\n",
    "            if self.y == outputList[1]:\n",
    "                self.backwardPass()\n",
    "                return True, [self.x, self.y]\n",
    "            elif self.y == self.lasty:\n",
    "                return False, [self.x, self.y]\n",
    "            self.lasty = self.y.copy()\n",
    "        else:\n",
    "            self.backwardPass()\n",
    "            if self.x == outputList[0]:\n",
    "                self.forwardPass()\n",
    "                return True, [self.x, self.y]\n",
    "            elif self.x == self.lastx:\n",
    "                return False, [self.x, self.y]\n",
    "            self.lastx = self.x.copy()\n",
    "        return self.perform_updates((direction + 1) % 2, outputList)        \n",
    "    \n",
    "    def calculatePairOutput(self, inputList, direction, outputList):\n",
    "        self.reset()\n",
    "        self.x = inputList[0]\n",
    "        self.y = inputList[1]\n",
    "        \n",
    "        self.lastx = self.x.copy()\n",
    "        self.lasty = self.y.copy()\n",
    "        \n",
    "        res, output = self.performPairUpdates(direction, outputList)\n",
    "        return res, output[0], output[1]\n",
    "        \n",
    "    def plot_output(self, outputs):\n",
    "        outputCount = len(outputs)\n",
    "        \n",
    "        for i in range(len(outputs)):\n",
    "            output = outputs[i][0]\n",
    "            label = outputs[i][1]\n",
    "            out = np.array(output).reshape(5, 3)\n",
    "            plt.subplot(1, outputCount, i+1)\n",
    "            plt.xlabel(label)\n",
    "            plt.imshow(out)\n",
    "        plt.tight_layout()\n",
    "        plt.show()"
   ]
  },
  {
   "cell_type": "markdown",
   "metadata": {},
   "source": [
    "B) First we create our inputs and weights:"
   ]
  },
  {
   "cell_type": "code",
   "execution_count": 386,
   "metadata": {},
   "outputs": [],
   "source": [
    "s = [\n",
    "    [-1,  1,  1,\n",
    "      1, -1, -1,\n",
    "      1, -1, -1,\n",
    "      1, -1, -1,\n",
    "     -1,  1,  1],\n",
    "    \n",
    "    [ 1,  1,  1,\n",
    "      1, -1, -1,\n",
    "      1,  1, -1,\n",
    "      1, -1, -1,\n",
    "      1,  1,  1],\n",
    "    \n",
    "    [ 1,  1,  1,\n",
    "      1, -1,  1,\n",
    "      1,  1,  1,\n",
    "      1,  1, -1,\n",
    "      1, -1,  1],\n",
    "    \n",
    "    [-1,  1, -1,\n",
    "      1, -1,  1,\n",
    "      1, -1,  1,\n",
    "      1, -1,  1,\n",
    "     -1,  1, -1],\n",
    "    \n",
    "    [ 1,  1,  1,\n",
    "      1, -1, -1,\n",
    "      1,  1, -1,\n",
    "      1, -1, -1,\n",
    "      1, -1, -1],\n",
    "    \n",
    "    [ 1,  1,  1,\n",
    "      1, -1,  1,\n",
    "      1,  1,  1,\n",
    "      1, -1, -1,\n",
    "      1, -1, -1],\n",
    "]\n",
    "\n",
    "t = [\n",
    "    [-1, -1, -1],\n",
    "    [-1, -1,  1],\n",
    "    [-1,  1, -1],\n",
    "    [-1,  1,  1],\n",
    "    [ 1, -1, -1],\n",
    "    [ 1, -1,  1]\n",
    "]"
   ]
  },
  {
   "cell_type": "code",
   "execution_count": 387,
   "metadata": {},
   "outputs": [],
   "source": [
    "w = [[0 for i in range(len(t[0]))] for j in range(len(s[0]))]\n",
    "for p in range(3):# C,E,R patterns\n",
    "    for i in range(len(s[p])):\n",
    "        for j in range(len(t[p])):\n",
    "            inp = s[p][i]\n",
    "            out = t[p][j]\n",
    "            w[i][j] += inp * out"
   ]
  },
  {
   "cell_type": "code",
   "execution_count": 388,
   "metadata": {},
   "outputs": [
    {
     "data": {
      "text/plain": [
       "array([[-1,  1,  1],\n",
       "       [-3, -1, -1],\n",
       "       [-3, -1, -1],\n",
       "       [-3, -1, -1],\n",
       "       [ 3,  1,  1],\n",
       "       [ 1,  3, -1],\n",
       "       [-3, -1, -1],\n",
       "       [-1,  1,  1],\n",
       "       [ 1,  3, -1],\n",
       "       [-3, -1, -1],\n",
       "       [ 1,  3, -1],\n",
       "       [ 3,  1,  1],\n",
       "       [-1,  1,  1],\n",
       "       [-1, -3,  1],\n",
       "       [-3, -1, -1]])"
      ]
     },
     "execution_count": 388,
     "metadata": {},
     "output_type": "execute_result"
    }
   ],
   "source": [
    "np.array(w)"
   ]
  },
  {
   "cell_type": "markdown",
   "metadata": {},
   "source": [
    "B) we check our network:"
   ]
  },
  {
   "cell_type": "code",
   "execution_count": 389,
   "metadata": {},
   "outputs": [],
   "source": [
    "myBam = BAM()\n",
    "myBam.setWeights(w)"
   ]
  },
  {
   "cell_type": "code",
   "execution_count": 391,
   "metadata": {},
   "outputs": [
    {
     "data": {
      "image/png": "[encoded data removed]",
      "text/plain": [
       "<Figure size 432x288 with 3 Axes>"
      ]
     },
     "metadata": {
      "needs_background": "light"
     },
     "output_type": "display_data"
    }
   ],
   "source": [
    "labels = ['C', 'E', 'R']\n",
    "outputs = []\n",
    "for i in range(3):\n",
    "    res, output = myBam.calculateOutput(t[i], 1, s[i])\n",
    "    outputs.append([output, t[i]])\n",
    "myBam.plot_output(outputs)"
   ]
  },
  {
   "cell_type": "code",
   "execution_count": 392,
   "metadata": {},
   "outputs": [
    {
     "name": "stdout",
     "output_type": "stream",
     "text": [
      "C  :  [-1, -1, -1]\n",
      "E  :  [-1, -1, -1]\n",
      "R  :  [-1, 1, -1]\n"
     ]
    }
   ],
   "source": [
    "for i in range(3):\n",
    "    res, output = myBam.calculateOutput(s[i], 0, t[i])\n",
    "    print(labels[i], ' : ', output)   "
   ]
  },
  {
   "cell_type": "markdown",
   "metadata": {},
   "source": [
    "C)"
   ]
  },
  {
   "cell_type": "code",
   "execution_count": 399,
   "metadata": {},
   "outputs": [],
   "source": [
    "def bamNoiseGenerator(sample, percentage, forget=False):\n",
    "    noised_input = sample.copy()\n",
    "    noiseCount = ((percentage * len(sample)) // 100)\n",
    "    noised_ind = random.sample(range(0, len(sample)), noiseCount)\n",
    "    for ind in noised_ind:\n",
    "        if forget == False:\n",
    "            noised_input[ind] *= -1\n",
    "        else:\n",
    "            noised_input[ind] *= 0\n",
    "    return noised_input"
   ]
  },
  {
   "cell_type": "code",
   "execution_count": 402,
   "metadata": {},
   "outputs": [
    {
     "name": "stdout",
     "output_type": "stream",
     "text": [
      "Precision:  21.333333333333336\n"
     ]
    }
   ],
   "source": [
    "correct = 0\n",
    "for _ in range(100):\n",
    "    for p in range(3):\n",
    "        left_input_noise = bamNoiseGenerator(s[p], 40)\n",
    "        right_input_noise = bamNoiseGenerator(t[p], 40)\n",
    "        res, out1, out2 = myBam.calculatePairOutput([left_input_noise, right_input_noise], 0, [s[p], t[p]])\n",
    "        if res:\n",
    "            correct += 1\n",
    "print('Precision: ', (correct / 300) * 100)"
   ]
  },
  {
   "cell_type": "markdown",
   "metadata": {},
   "source": [
    "E)"
   ]
  },
  {
   "cell_type": "code",
   "execution_count": 403,
   "metadata": {},
   "outputs": [],
   "source": [
    "w = [[0 for i in range(len(t[0]))] for j in range(len(s[0]))]\n",
    "for p in range(len(s)):# C,E,R patterns\n",
    "    for i in range(len(s[p])):\n",
    "        for j in range(len(t[p])):\n",
    "            inp = s[p][i]\n",
    "            out = t[p][j]\n",
    "            w[i][j] += inp * out"
   ]
  },
  {
   "cell_type": "code",
   "execution_count": 404,
   "metadata": {},
   "outputs": [],
   "source": [
    "myCompleteBam = BAM()\n",
    "myCompleteBam.setWeights(w)"
   ]
  },
  {
   "cell_type": "markdown",
   "metadata": {},
   "source": [
    "Right to Left:"
   ]
  },
  {
   "cell_type": "code",
   "execution_count": 406,
   "metadata": {},
   "outputs": [
    {
     "data": {
      "image/png": "[encoded data removed]",
      "text/plain": [
       "<Figure size 432x288 with 6 Axes>"
      ]
     },
     "metadata": {
      "needs_background": "light"
     },
     "output_type": "display_data"
    }
   ],
   "source": [
    "labels = ['C', 'E', 'R', 'O', 'F', 'P']\n",
    "outputs = []\n",
    "for i in range(len(s)):\n",
    "    res, output = myCompleteBam.calculateOutput(t[i], 1, s[i])\n",
    "    outputs.append([output, t[i]])\n",
    "myCompleteBam.plot_output(outputs)"
   ]
  },
  {
   "cell_type": "markdown",
   "metadata": {},
   "source": [
    "Left to Right:"
   ]
  },
  {
   "cell_type": "code",
   "execution_count": 408,
   "metadata": {},
   "outputs": [
    {
     "name": "stdout",
     "output_type": "stream",
     "text": [
      "C  :  [-1, -1, -1]\n",
      "E  :  [-1, -1, -1]\n",
      "R  :  [-1, -1, -1]\n",
      "O  :  [-1, 1, 1]\n",
      "F  :  [1, -1, -1]\n",
      "P  :  [1, -1, 1]\n"
     ]
    }
   ],
   "source": [
    "for i in range(len(s)):\n",
    "    res, output = myCompleteBam.calculateOutput(s[i], 0, t[i])\n",
    "    print(labels[i], ' : ', output)"
   ]
  },
  {
   "cell_type": "code",
   "execution_count": null,
   "metadata": {},
   "outputs": [],
   "source": []
  }
 ],
 "metadata": {
  "kernelspec": {
   "display_name": "Python 3",
   "language": "python",
   "name": "python3"
  },
  "language_info": {
   "codemirror_mode": {
    "name": "ipython",
    "version": 3
   },
   "file_extension": ".py",
   "mimetype": "text/x-python",
   "name": "python",
   "nbconvert_exporter": "python",
   "pygments_lexer": "ipython3",
   "version": "3.7.0"
  }
 },
 "nbformat": 4,
 "nbformat_minor": 4
}
